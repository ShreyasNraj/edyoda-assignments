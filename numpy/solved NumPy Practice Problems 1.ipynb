{
 "cells": [
  {
   "cell_type": "markdown",
   "metadata": {},
   "source": [
    "## NumPy : Practice Problems 1\n",
    "Easy Questions : 7\n",
    "Moderate Questions : 7\n",
    "Hard Questions : 3\n",
    "<hr>\n"
   ]
  },
  {
   "cell_type": "markdown",
   "metadata": {},
   "source": [
    "### 1. Write a NumPy program to get the numpy version and show numpy build configuration.\n",
    "\n",
    "Level: Easy"
   ]
  },
  {
   "cell_type": "code",
   "execution_count": 1,
   "metadata": {},
   "outputs": [
    {
     "name": "stdout",
     "output_type": "stream",
     "text": [
      "1.18.1\n",
      "<module 'numpy.__config__' from '/Users/Shreyu/opt/anaconda3/lib/python3.7/site-packages/numpy/__config__.py'>\n"
     ]
    }
   ],
   "source": [
    "import numpy as np\n",
    "\n",
    "print(np.version.version)\n",
    "print(np.__config__)"
   ]
  },
  {
   "cell_type": "markdown",
   "metadata": {},
   "source": [
    "### 2. Create a null vector of size 10 but the fifth value which is 1.\n",
    "\n",
    "Level: Easy"
   ]
  },
  {
   "cell_type": "code",
   "execution_count": 3,
   "metadata": {},
   "outputs": [
    {
     "name": "stdout",
     "output_type": "stream",
     "text": [
      "[0. 0. 0. 0. 1. 0. 0. 0. 0. 0.]\n"
     ]
    }
   ],
   "source": [
    "ten_z = np.zeros(10)\n",
    "ten_z[4] = 1\n",
    "print(ten_z)"
   ]
  },
  {
   "cell_type": "markdown",
   "metadata": {},
   "source": [
    "###  Create a vector with values ranging from 10 to 49.\n",
    "\n",
    "Level: Easy"
   ]
  },
  {
   "cell_type": "code",
   "execution_count": 4,
   "metadata": {},
   "outputs": [
    {
     "name": "stdout",
     "output_type": "stream",
     "text": [
      "[10 11 12 13 14 15 16 17 18 19 20 21 22 23 24 25 26 27 28 29 30 31 32 33\n",
      " 34 35 36 37 38 39 40 41 42 43 44 45 46 47 48 49]\n"
     ]
    }
   ],
   "source": [
    "ten_fortynine = np.arange(10,50)\n",
    "print(ten_fortynine)"
   ]
  },
  {
   "cell_type": "markdown",
   "metadata": {},
   "source": [
    "### 3. create two arrays and stack them vertically\n",
    "\n",
    "Level: Easy"
   ]
  },
  {
   "cell_type": "code",
   "execution_count": 20,
   "metadata": {},
   "outputs": [
    {
     "data": {
      "text/plain": [
       "array([[1, 2, 3, 4],\n",
       "       [2, 3, 4, 1]])"
      ]
     },
     "execution_count": 20,
     "metadata": {},
     "output_type": "execute_result"
    }
   ],
   "source": [
    "a=np.array([1,2,3,4])\n",
    "b=np.array([2,3,4,1])\n",
    "np.vstack((a,b))"
   ]
  },
  {
   "cell_type": "markdown",
   "metadata": {},
   "source": [
    "### 4. Reverse a vector (first element becomes last).\n",
    "\n",
    "Level: Easy"
   ]
  },
  {
   "cell_type": "code",
   "execution_count": 38,
   "metadata": {},
   "outputs": [
    {
     "data": {
      "text/plain": [
       "array([9, 8, 7, 6, 5, 4, 3, 2, 1, 0])"
      ]
     },
     "execution_count": 38,
     "metadata": {},
     "output_type": "execute_result"
    }
   ],
   "source": [
    "a=np.arange(10)\n",
    "np.flip(a)"
   ]
  },
  {
   "cell_type": "markdown",
   "metadata": {},
   "source": [
    "### 5. Create a 3x3 matrix with values ranging from 0 to 8 \n",
    "\n",
    "Level: Easy"
   ]
  },
  {
   "cell_type": "code",
   "execution_count": 45,
   "metadata": {},
   "outputs": [
    {
     "data": {
      "text/plain": [
       "array([[0, 1, 2],\n",
       "       [3, 4, 5],\n",
       "       [6, 7, 8]])"
      ]
     },
     "execution_count": 45,
     "metadata": {},
     "output_type": "execute_result"
    }
   ],
   "source": [
    "np.arange(0,9).reshape(3,3)\n"
   ]
  },
  {
   "cell_type": "markdown",
   "metadata": {},
   "source": [
    "### 6. Find indices of non-zero elements from [1,2,0,0,4,0]\n",
    "\n",
    "Level: Easy"
   ]
  },
  {
   "cell_type": "code",
   "execution_count": 50,
   "metadata": {},
   "outputs": [
    {
     "data": {
      "text/plain": [
       "array([2, 3, 5])"
      ]
     },
     "execution_count": 50,
     "metadata": {},
     "output_type": "execute_result"
    }
   ],
   "source": [
    "a=np.array([1,2,0,0,4,0])\n",
    "np.where(a==0)[0]"
   ]
  },
  {
   "cell_type": "markdown",
   "metadata": {},
   "source": [
    "### 7. Create a 10x10 array with random values and find the minimum and maximum values.\n",
    "\n",
    "Level: Easy"
   ]
  },
  {
   "cell_type": "code",
   "execution_count": 99,
   "metadata": {},
   "outputs": [
    {
     "name": "stdout",
     "output_type": "stream",
     "text": [
      "3.299021061350959\n",
      "-2.2647828212219876\n"
     ]
    }
   ],
   "source": [
    "a=np.random.randn(10,10)\n",
    "print(a.max())\n",
    "print(a.min())"
   ]
  },
  {
   "cell_type": "markdown",
   "metadata": {},
   "source": [
    "### 8. Create a random vector of size 30 and find the mean value.\n",
    "\n",
    "Level: Medium"
   ]
  },
  {
   "cell_type": "code",
   "execution_count": 104,
   "metadata": {},
   "outputs": [
    {
     "name": "stdout",
     "output_type": "stream",
     "text": [
      "0.36478856261419657\n"
     ]
    }
   ],
   "source": [
    "a=np.random.randn(30)\n",
    "print(a.mean())"
   ]
  },
  {
   "cell_type": "markdown",
   "metadata": {},
   "source": [
    "### 9. Create a 2d array with 1 on the border and 0 inside\n",
    "Level: Medium"
   ]
  },
  {
   "cell_type": "code",
   "execution_count": 105,
   "metadata": {},
   "outputs": [
    {
     "name": "stdout",
     "output_type": "stream",
     "text": [
      "[[1. 1. 1. 1. 1. 1. 1. 1. 1. 1.]\n",
      " [1. 0. 0. 0. 0. 0. 0. 0. 0. 1.]\n",
      " [1. 0. 0. 0. 0. 0. 0. 0. 0. 1.]\n",
      " [1. 0. 0. 0. 0. 0. 0. 0. 0. 1.]\n",
      " [1. 0. 0. 0. 0. 0. 0. 0. 0. 1.]\n",
      " [1. 0. 0. 0. 0. 0. 0. 0. 0. 1.]\n",
      " [1. 0. 0. 0. 0. 0. 0. 0. 0. 1.]\n",
      " [1. 0. 0. 0. 0. 0. 0. 0. 0. 1.]\n",
      " [1. 0. 0. 0. 0. 0. 0. 0. 0. 1.]\n",
      " [1. 1. 1. 1. 1. 1. 1. 1. 1. 1.]]\n"
     ]
    }
   ],
   "source": [
    "oneborder = np.ones((10,10))\n",
    "oneborder[1:-1, 1:-1] = 0\n",
    "print(oneborder)"
   ]
  },
  {
   "cell_type": "markdown",
   "metadata": {},
   "source": [
    "### 10. How to add a border (filled with 0's) around an existing array\n",
    "\n",
    "Level: Medium"
   ]
  },
  {
   "cell_type": "code",
   "execution_count": 129,
   "metadata": {},
   "outputs": [
    {
     "name": "stdout",
     "output_type": "stream",
     "text": [
      "[[0. 0. 0. 0. 0. 0. 0. 0. 0. 0. 0. 0.]\n",
      " [0. 1. 1. 1. 1. 1. 1. 1. 1. 1. 1. 0.]\n",
      " [0. 1. 1. 1. 1. 1. 1. 1. 1. 1. 1. 0.]\n",
      " [0. 1. 1. 1. 1. 1. 1. 1. 1. 1. 1. 0.]\n",
      " [0. 1. 1. 1. 1. 1. 1. 1. 1. 1. 1. 0.]\n",
      " [0. 1. 1. 1. 1. 1. 1. 1. 1. 1. 1. 0.]\n",
      " [0. 1. 1. 1. 1. 1. 1. 1. 1. 1. 1. 0.]\n",
      " [0. 1. 1. 1. 1. 1. 1. 1. 1. 1. 1. 0.]\n",
      " [0. 1. 1. 1. 1. 1. 1. 1. 1. 1. 1. 0.]\n",
      " [0. 1. 1. 1. 1. 1. 1. 1. 1. 1. 1. 0.]\n",
      " [0. 1. 1. 1. 1. 1. 1. 1. 1. 1. 1. 0.]\n",
      " [0. 0. 0. 0. 0. 0. 0. 0. 0. 0. 0. 0.]]\n"
     ]
    },
    {
     "data": {
      "text/plain": [
       "(12, 12)"
      ]
     },
     "execution_count": 129,
     "metadata": {},
     "output_type": "execute_result"
    }
   ],
   "source": [
    "azero=np.ones((10,10))\n",
    "azero=np.pad(azero,1,'constant',constant_values=0)\n",
    "print(azero)\n",
    "azero.shape"
   ]
  },
  {
   "cell_type": "markdown",
   "metadata": {},
   "source": [
    "### 11. Create a 5x5 matrix with values 1,2,3,4 just below the diagonal\n",
    "Sample Output:\n",
    "    \n",
    "[[ 0.  0.  0.  0.  0.]\n",
    " [ 1.  0.  0.  0.  0.]\n",
    " [ 0.  2.  0.  0.  0.]\n",
    " [ 0.  0.  3.  0.  0.]\n",
    " [ 0.  0.  0.  4.  0.]]\n",
    " \n",
    " Level: Medium"
   ]
  },
  {
   "cell_type": "code",
   "execution_count": 127,
   "metadata": {},
   "outputs": [
    {
     "data": {
      "text/plain": [
       "array([[0., 0., 0., 0., 0.],\n",
       "       [1., 0., 0., 0., 0.],\n",
       "       [0., 2., 0., 0., 0.],\n",
       "       [0., 0., 3., 0., 0.],\n",
       "       [0., 0., 0., 4., 0.]])"
      ]
     },
     "execution_count": 127,
     "metadata": {},
     "output_type": "execute_result"
    }
   ],
   "source": [
    "a=np.zeros((5,5))\n",
    "a\n",
    "a[1,0]=1\n",
    "a[2,1]=2\n",
    "a[3,2]=3\n",
    "a[4,3]=4\n",
    "a"
   ]
  },
  {
   "cell_type": "markdown",
   "metadata": {},
   "source": [
    "### 12. Create a 5*5 matrix with random values and normalize it.\n",
    "Level: Medium"
   ]
  },
  {
   "cell_type": "code",
   "execution_count": 155,
   "metadata": {},
   "outputs": [
    {
     "data": {
      "text/plain": [
       "array([[0.68864994, 0.51350011, 0.98285314, 0.25234495, 0.55372401],\n",
       "       [0.16691142, 0.68767948, 0.83141246, 0.00557384, 0.58747046],\n",
       "       [0.08136557, 0.69158613, 0.93761901, 0.24216571, 0.98819482],\n",
       "       [0.64382969, 0.        , 0.03227051, 0.86273959, 0.73953005],\n",
       "       [0.31284247, 0.31121132, 0.49755168, 0.58970395, 1.        ]])"
      ]
     },
     "execution_count": 155,
     "metadata": {},
     "output_type": "execute_result"
    }
   ],
   "source": [
    "a = np.random.random((5,5))\n",
    "b= (a - a.min())/(a.max()-a.min())\n",
    "b"
   ]
  },
  {
   "cell_type": "markdown",
   "metadata": {},
   "source": [
    "### 13. How to find common values between two arrays\n",
    "Level: Medium"
   ]
  },
  {
   "cell_type": "code",
   "execution_count": 132,
   "metadata": {},
   "outputs": [
    {
     "data": {
      "text/plain": [
       "array([1, 2, 3, 4])"
      ]
     },
     "execution_count": 132,
     "metadata": {},
     "output_type": "execute_result"
    }
   ],
   "source": [
    "a1 = np.arange(10)\n",
    "a2 = np.arange(1,5)\n",
    "a3 = np.intersect1d(a1,a2)\n",
    "a3"
   ]
  },
  {
   "cell_type": "markdown",
   "metadata": {},
   "source": [
    "### 14. Consider a generator function that generates 10 integers and use it to build an array\n",
    "Level: Medium"
   ]
  },
  {
   "cell_type": "code",
   "execution_count": 176,
   "metadata": {},
   "outputs": [
    {
     "name": "stdout",
     "output_type": "stream",
     "text": [
      "[681  37 913 449 150 694 587 971 864 713]\n"
     ]
    },
    {
     "data": {
      "text/plain": [
       "numpy.ndarray"
      ]
     },
     "execution_count": 176,
     "metadata": {},
     "output_type": "execute_result"
    }
   ],
   "source": [
    "def generator():\n",
    "    a=[]\n",
    "    for i in range(10):\n",
    "        a.append(random.randint(10,1000))\n",
    "    return a\n",
    "\n",
    "b=np.array(generator())\n",
    "print(b)\n",
    "type(b)"
   ]
  },
  {
   "cell_type": "markdown",
   "metadata": {},
   "source": [
    "### 15. Subtract the mean of each row of a matrix\n",
    "Level: Hard"
   ]
  },
  {
   "cell_type": "code",
   "execution_count": 184,
   "metadata": {},
   "outputs": [
    {
     "name": "stdout",
     "output_type": "stream",
     "text": [
      "[30.2 28.  34.  31.2 23.6 23.4 15.2 24.8 20.2 27.8]\n",
      "[[37 13 17 41 43]\n",
      " [48 21 40 17 14]\n",
      " [49 40 20 32 29]\n",
      " [41 26 37  5 47]\n",
      " [15 29 24  2 48]\n",
      " [13 13 40  8 43]\n",
      " [ 5 41 12  8 10]\n",
      " [34 43  5 16 26]\n",
      " [ 9  6 49 23 14]\n",
      " [16 28 41 15 39]]\n",
      "[[  6 -17 -13  10  12]\n",
      " [ 20  -7  12 -11 -14]\n",
      " [ 15   6 -14  -2  -5]\n",
      " [  9  -5   5 -26  15]\n",
      " [ -8   5   0 -21  24]\n",
      " [-10 -10  16 -15  19]\n",
      " [-10  25  -3  -7  -5]\n",
      " [  9  18 -19  -8   1]\n",
      " [-11 -14  28   2  -6]\n",
      " [-11   0  13 -12  11]]\n"
     ]
    }
   ],
   "source": [
    "a = np.random.randint(1,50,(10,5))\n",
    "mean=a.mean(axis=1)\n",
    "print(mean)\n",
    "print(a)\n",
    "b = a.copy()\n",
    "for i in range(a.shape[0]):\n",
    "    b[i] = b[i] - mean[i]\n",
    "print(b)\n"
   ]
  },
  {
   "cell_type": "markdown",
   "metadata": {},
   "source": [
    "### 16. Considering two arrays with shape (1,3) and (3,1), how to compute their sum using an iterator? \n",
    "Level: Hard"
   ]
  },
  {
   "cell_type": "code",
   "execution_count": 187,
   "metadata": {},
   "outputs": [
    {
     "name": "stdout",
     "output_type": "stream",
     "text": [
      "[[9 3 4]] [[3]\n",
      " [5]\n",
      " [2]]\n",
      "[12, 14, 11, 6, 8, 5, 7, 9, 6]\n",
      "[[12 14 11]\n",
      " [ 6  8  5]\n",
      " [ 7  9  6]]\n"
     ]
    }
   ],
   "source": [
    "a =np.random.randint(0,10,(1,3))\n",
    "b=np.random.randint(0,10,(3,1))\n",
    "print(a,b)\n",
    "sums = []\n",
    "for i in np.nditer(a):\n",
    "    for j in np.nditer(b):\n",
    "        sums.append(i+j)\n",
    "print(sums)\n",
    "print(np.array(sums).reshape(3,3))"
   ]
  },
  {
   "cell_type": "markdown",
   "metadata": {},
   "source": [
    "### 17. Write a NumPy program to create a vector of length 10 with values evenly distributed between 5 and 50.\n",
    "Level: Hard"
   ]
  },
  {
   "cell_type": "code",
   "execution_count": null,
   "metadata": {},
   "outputs": [],
   "source": []
  }
 ],
 "metadata": {
  "kernelspec": {
   "display_name": "Python 3",
   "language": "python",
   "name": "python3"
  },
  "language_info": {
   "codemirror_mode": {
    "name": "ipython",
    "version": 3
   },
   "file_extension": ".py",
   "mimetype": "text/x-python",
   "name": "python",
   "nbconvert_exporter": "python",
   "pygments_lexer": "ipython3",
   "version": "3.7.6"
  }
 },
 "nbformat": 4,
 "nbformat_minor": 4
}
